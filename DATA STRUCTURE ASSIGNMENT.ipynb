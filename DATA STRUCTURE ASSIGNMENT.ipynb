{
 "cells": [
  {
   "cell_type": "raw",
   "id": "0c89bfeb-a721-4e20-a795-1fa7e452f710",
   "metadata": {},
   "source": [
    "DATA STRUCTURE ASSIGNMENT"
   ]
  },
  {
   "cell_type": "code",
   "execution_count": null,
   "id": "bcca883d-fff8-4630-b44d-c8fdcd93cce9",
   "metadata": {},
   "outputs": [],
   "source": [
    "QUES 1 : Discuss string slicing and provide examples ?\n",
    "\n",
    "String slicing is a powerful feature in many programming languages that allows you to extract a substring from a larger string.\n",
    "\n",
    "Python String Slicing\n",
    "In Python, string slicing allows you to get a substring from a string by specifying a start and end index, and optionally.\n",
    "\n"
   ]
  },
  {
   "cell_type": "code",
   "execution_count": 3,
   "id": "0c67ee00-92a3-409e-ab16-41d35e4b8404",
   "metadata": {},
   "outputs": [],
   "source": [
    "#Examples:\n",
    "\n",
    "#Basic Slicing:\n",
    "\n",
    "s = \"Hello, Physicswallah!\"\n",
    "substring = s[7:12]\n"
   ]
  },
  {
   "cell_type": "code",
   "execution_count": 5,
   "id": "5755611e-dab0-482f-a16f-ef2ceec08e86",
   "metadata": {},
   "outputs": [],
   "source": [
    "#Omitting Indices\n",
    "\n",
    "s = \"Hello, World!\"\n",
    "start_to_end = s[:]    \n",
    "from_start = s[:5]    \n",
    "to_end = s[7:]        \n"
   ]
  },
  {
   "cell_type": "raw",
   "id": "aa706370-8458-439a-b614-d4b7b317751e",
   "metadata": {},
   "source": [
    "QUES 2 : Explain the key features of lists in Python?\n",
    "\n",
    "\n",
    "Lists are used to store multiple items in a single variable.\n",
    "\n",
    "Lists are one of 4 built-in data types in Python used to store collections of data, the other 3 are Tuple, Set, and Dictionary, all with different qualities and usage.\n",
    "\n",
    "Lists are created using square brackets[]\n",
    "\n",
    "List items are ordered, changeable, and allow duplicate values.\n",
    "\n",
    "List items are indexed, the first item has index [0], the second item has index [1] etc.\n",
    "\n"
   ]
  },
  {
   "cell_type": "code",
   "execution_count": 11,
   "id": "37b6cf05-f5e7-4205-a9bf-9a8da0c8a766",
   "metadata": {},
   "outputs": [
    {
     "data": {
      "text/plain": [
       "['apple', 'banana', 'cherry']"
      ]
     },
     "execution_count": 11,
     "metadata": {},
     "output_type": "execute_result"
    }
   ],
   "source": [
    "list1 = [\"apple\", \"banana\", \"cherry\"]\n",
    "list2 = [1, 5, 7, 9, 3]\n",
    "list3 = [True, False, False]\n",
    "\n",
    "list1 \n"
   ]
  },
  {
   "cell_type": "markdown",
   "id": "e61847fc-3470-4b04-938c-ee6faa9acef8",
   "metadata": {},
   "source": [
    "The list() Constructor\n",
    "It is also possible to use the list() constructor when creating a new list.\n"
   ]
  },
  {
   "cell_type": "code",
   "execution_count": 13,
   "id": "a76064de-d79b-4a1e-93f8-fb72e5a23330",
   "metadata": {},
   "outputs": [
    {
     "name": "stdout",
     "output_type": "stream",
     "text": [
      "['apple', 'banana', 'cherry']\n"
     ]
    }
   ],
   "source": [
    "fruits = list((\"apple\", \"banana\", \"cherry\")) \n",
    "print(fruits)"
   ]
  },
  {
   "cell_type": "markdown",
   "id": "b7378454-6a86-43d5-9149-ce15792f13b3",
   "metadata": {},
   "source": [
    "QUES 3 : Describe how to access, modify, and delete elements in a list with examples?\n",
    "\n",
    "Accessing elements in a list in Python is straightforward.\n",
    "\n",
    "# Basic Access\n",
    "**1. Indexing: You can access individual elements by their index. Indexing in Python starts at 0."
   ]
  },
  {
   "cell_type": "code",
   "execution_count": 17,
   "id": "93c16f08-55ea-4764-959e-b06454b1bff9",
   "metadata": {},
   "outputs": [
    {
     "name": "stdout",
     "output_type": "stream",
     "text": [
      "cherry\n"
     ]
    }
   ],
   "source": [
    "fruits = [\"apple\", \"banana\", \"cherry\", \"orange\", \"kiwi\", \"melon\", \"mango\"]\n",
    "print(fruits[2])"
   ]
  },
  {
   "cell_type": "markdown",
   "id": "5168bc84-e0d1-40c4-96ab-6b8bd13ed009",
   "metadata": {},
   "source": [
    "# negative indexing\n",
    "\n",
    "Negative indexing means beginning from the end, -1 refers to the last item, -2 refers to the second last item etc\n"
   ]
  },
  {
   "cell_type": "code",
   "execution_count": 19,
   "id": "7a1da7ee-7e86-4ad5-ab7a-3efe5acde2c2",
   "metadata": {},
   "outputs": [
    {
     "name": "stdout",
     "output_type": "stream",
     "text": [
      "melon\n"
     ]
    }
   ],
   "source": [
    "fruits = [\"apple\", \"banana\", \"cherry\", \"orange\", \"kiwi\", \"melon\", \"mango\"]\n",
    "print(fruits[-2])"
   ]
  },
  {
   "cell_type": "markdown",
   "id": "8ad3c9c4-f57a-4c99-9f63-2498f3f0ef84",
   "metadata": {},
   "source": [
    "# Modifying elements in a list in Python is a common operation and can be done in several ways depending on what you need to accomplish\n"
   ]
  },
  {
   "cell_type": "code",
   "execution_count": 21,
   "id": "013711ae-8bab-4eaf-9236-648aae31287e",
   "metadata": {},
   "outputs": [
    {
     "data": {
      "text/plain": [
       "[10, 20, 99, 40, 50]"
      ]
     },
     "execution_count": 21,
     "metadata": {},
     "output_type": "execute_result"
    }
   ],
   "source": [
    "# Modifying Individual Elements\n",
    "\n",
    "my_list = [10, 20, 30, 40, 50]\n",
    "my_list[2] = 99 \n",
    "my_list\n"
   ]
  },
  {
   "cell_type": "markdown",
   "id": "dee7d3e1-b97d-4c05-9924-6463b936f1c4",
   "metadata": {},
   "source": [
    "# Modifying Multiple Elements Using Slicing\n",
    "You can replace a slice of the list with new values. The new list should match the length of the slice you're replacing.\n"
   ]
  },
  {
   "cell_type": "code",
   "execution_count": 22,
   "id": "4a86bce9-fa00-45b0-8352-c3a5889193a3",
   "metadata": {},
   "outputs": [
    {
     "data": {
      "text/plain": [
       "[10, 21, 22, 23, 50]"
      ]
     },
     "execution_count": 22,
     "metadata": {},
     "output_type": "execute_result"
    }
   ],
   "source": [
    "list = [10, 20, 30, 40, 50]\n",
    "list[1:4] = [21, 22, 23]\n",
    "list"
   ]
  },
  {
   "cell_type": "markdown",
   "id": "3a24bb35-1d02-4dba-97c3-4fcea6547d34",
   "metadata": {},
   "source": [
    "Appending and Extending Lists\n",
    "Appending: Add a single element to the end of the list."
   ]
  },
  {
   "cell_type": "code",
   "execution_count": 26,
   "id": "6da0153e-a0eb-424a-aee8-9117df59ca81",
   "metadata": {},
   "outputs": [
    {
     "data": {
      "text/plain": [
       "[10, 20, 30, 40]"
      ]
     },
     "execution_count": 26,
     "metadata": {},
     "output_type": "execute_result"
    }
   ],
   "source": [
    "list = [10, 20, 30]\n",
    "list.append(40)\n",
    "list"
   ]
  },
  {
   "cell_type": "markdown",
   "id": "20b73ab1-953c-4c01-89b1-1d4a876ed93b",
   "metadata": {},
   "source": [
    "Extending: Add multiple elements to the end of the list."
   ]
  },
  {
   "cell_type": "code",
   "execution_count": 27,
   "id": "e1e35984-c066-48f7-988a-58305d08914a",
   "metadata": {},
   "outputs": [
    {
     "data": {
      "text/plain": [
       "[10, 20, 30, 40, 50]"
      ]
     },
     "execution_count": 27,
     "metadata": {},
     "output_type": "execute_result"
    }
   ],
   "source": [
    "list = [10, 20, 30]\n",
    "list.extend([40, 50]) \n",
    "list\n"
   ]
  },
  {
   "cell_type": "markdown",
   "id": "a74f6f35-6c28-4566-9e1e-58f75490c922",
   "metadata": {},
   "source": [
    "Inserting Elements\n",
    "Insert an element at a specific position in the list."
   ]
  },
  {
   "cell_type": "code",
   "execution_count": 28,
   "id": "0e9b9279-805f-480b-a9e8-0b5b57888d86",
   "metadata": {},
   "outputs": [
    {
     "data": {
      "text/plain": [
       "[10, 15, 20, 30]"
      ]
     },
     "execution_count": 28,
     "metadata": {},
     "output_type": "execute_result"
    }
   ],
   "source": [
    "list = [10, 20, 30]\n",
    "list.insert(1, 15) \n",
    "list"
   ]
  },
  {
   "cell_type": "markdown",
   "id": "b016f7de-cfa4-4eb5-b1e8-ecbca784ee42",
   "metadata": {},
   "source": [
    "Removing Elements "
   ]
  },
  {
   "cell_type": "code",
   "execution_count": 29,
   "id": "630e833c-e8f0-4d39-ac7c-ce7a3c9eefe0",
   "metadata": {},
   "outputs": [
    {
     "data": {
      "text/plain": [
       "[10, 30, 20, 40]"
      ]
     },
     "execution_count": 29,
     "metadata": {},
     "output_type": "execute_result"
    }
   ],
   "source": [
    "list = [10, 20, 30, 20, 40]\n",
    "list.remove(20)\n",
    "list"
   ]
  },
  {
   "cell_type": "code",
   "execution_count": 30,
   "id": "2d034917-4d01-4605-bcce-62901bfd9b7d",
   "metadata": {},
   "outputs": [
    {
     "data": {
      "text/plain": [
       "[10, 20, 40]"
      ]
     },
     "execution_count": 30,
     "metadata": {},
     "output_type": "execute_result"
    }
   ],
   "source": [
    "list = [10, 20, 30, 40]\n",
    "removed_element = list.pop(2)\n",
    "list"
   ]
  },
  {
   "cell_type": "markdown",
   "id": "5e52c84e-9200-4a59-a587-9c58a6687f2d",
   "metadata": {},
   "source": [
    "Deleting elements from a list in Python can be done in several ways, depending on whether you want to remove elements by value, by index, or clear the entire list.\n",
    "\n",
    "Deleting by Index\n",
    "Using del: The del statement removes an element at a specific index."
   ]
  },
  {
   "cell_type": "code",
   "execution_count": 31,
   "id": "50ce7710-8a09-433a-80b6-5e22efce0746",
   "metadata": {},
   "outputs": [
    {
     "data": {
      "text/plain": [
       "[10, 20, 40, 50]"
      ]
     },
     "execution_count": 31,
     "metadata": {},
     "output_type": "execute_result"
    }
   ],
   "source": [
    "list = [10, 20, 30, 40, 50]\n",
    "del list[2] \n",
    "list"
   ]
  },
  {
   "cell_type": "code",
   "execution_count": 33,
   "id": "294f17f5-2b61-49c8-a2a9-eddeb0f21323",
   "metadata": {},
   "outputs": [
    {
     "data": {
      "text/plain": [
       "[10, 30, 40, 50]"
      ]
     },
     "execution_count": 33,
     "metadata": {},
     "output_type": "execute_result"
    }
   ],
   "source": [
    "#Using pop(): The pop() method removes and returns the element at a specific index. If no index is provided,\n",
    "#it removes and returns the last element.\n",
    "\n",
    "my_list = [10, 20, 30, 40, 50]\n",
    "removed_element = my_list.pop(1) \n",
    "my_list\n"
   ]
  },
  {
   "cell_type": "raw",
   "id": "624f1b6b-c94f-46d1-96ca-f9bdce58e6c7",
   "metadata": {},
   "source": [
    "# QUES : 4 Compare and contrast tuples and lists with examples ?"
   ]
  },
  {
   "cell_type": "markdown",
   "id": "d59eab20-5aa9-4268-927a-92cfa61ac88c",
   "metadata": {},
   "source": [
    "Tuple\n",
    "Tuples are used to store multiple items in a single variable.\n",
    "\n",
    "Tuple is one of 4 built-in data types in Python used to store collections of data, the other 3 are List, Set, and Dictionary, all with different qualities and usage.\n",
    "\n",
    "A tuple is a collection which is ordered and unchangeable.\n",
    "\n",
    "Tuples are written with round brackets."
   ]
  },
  {
   "cell_type": "code",
   "execution_count": 34,
   "id": "de6acac8-4e13-440e-913a-7e48124c544e",
   "metadata": {},
   "outputs": [
    {
     "name": "stdout",
     "output_type": "stream",
     "text": [
      "('apple', 'banana', 'cherry')\n"
     ]
    }
   ],
   "source": [
    "tuple = (\"apple\", \"banana\", \"cherry\")\n",
    "print(tuple)"
   ]
  },
  {
   "cell_type": "markdown",
   "id": "7ea954f3-a5e9-4455-bfd5-a73e6848eab2",
   "metadata": {},
   "source": [
    "Tuple Items\n",
    "Tuple items are ordered, unchangeable, and allow duplicate values.\n",
    "\n",
    "Tuple items are indexed, the first item has index [0], the second item has index [1] etc.\n",
    "\n",
    "Ordered\n",
    "When we say that tuples are ordered, it means that the items have a defined order, and that order will not change.\n",
    "\n",
    "Unchangeable\n",
    "Tuples are unchangeable, meaning that we cannot change, add or remove items after the tuple has been created.\n",
    "\n",
    "Allow Duplicates\n",
    "Since tuples are indexed, they can have items with the same value:"
   ]
  },
  {
   "cell_type": "code",
   "execution_count": 35,
   "id": "f0fa6d61-4f3d-479b-b7a3-6a295f56bdd1",
   "metadata": {},
   "outputs": [
    {
     "name": "stdout",
     "output_type": "stream",
     "text": [
      "('apple', 'banana', 'cherry', 'apple', 'cherry')\n"
     ]
    }
   ],
   "source": [
    "tuple = (\"apple\", \"banana\", \"cherry\", \"apple\", \"cherry\")\n",
    "print(tuple)\n"
   ]
  },
  {
   "cell_type": "markdown",
   "id": "23d05c70-4c44-4f7f-a48b-c1d215506c9a",
   "metadata": {},
   "source": [
    "Tuple Length\n",
    "To determine how many items a tuple has, use the len() function"
   ]
  },
  {
   "cell_type": "code",
   "execution_count": 36,
   "id": "6bc625a6-3638-4671-bc5d-9f1967d799b7",
   "metadata": {},
   "outputs": [
    {
     "name": "stdout",
     "output_type": "stream",
     "text": [
      "5\n"
     ]
    }
   ],
   "source": [
    "tuple = (\"apple\", \"banana\", \"cherry\", \"apple\", \"cherry\")\n",
    "print(len(tuple))"
   ]
  },
  {
   "cell_type": "raw",
   "id": "a8b50494-cee3-4762-80ab-821467d0fa74",
   "metadata": {},
   "source": [
    "QUES : 5 Describe the key features of sets and provide examples of their use?"
   ]
  },
  {
   "cell_type": "raw",
   "id": "f09862b3-7670-47da-9f74-529400e6d37c",
   "metadata": {},
   "source": [
    "Set\n",
    "Sets are used to store multiple items in a single variable.\n",
    "\n",
    "Set is one of 4 built-in data types in Python used to store collections of data, the other 3 are List, Tuple, and Dictionary, all with different qualities and usage.\n",
    "\n",
    "A set is a collection which is unordered, unchangeable*, and unindexed."
   ]
  },
  {
   "cell_type": "raw",
   "id": "7cfe2a9a-caa1-4521-9250-cebb4c015470",
   "metadata": {},
   "source": [
    "Set Items\n",
    "Set items are unordered, unchangeable, and do not allow duplicate values.\n",
    "\n",
    "Unordered\n",
    "Unordered means that the items in a set do not have a defined order.\n",
    "\n",
    "Set items can appear in a different order every time you use them, and cannot be referred to by index or key.\n",
    "\n",
    "Unchangeable\n",
    "Set items are unchangeable, meaning that we cannot change the items after the set has been created.\n",
    "\n",
    "Once a set is created, you cannot change its items, but you can remove items and add new items.\n",
    "\n",
    "Duplicates Not Allowed\n",
    "Sets cannot have two items with the same value."
   ]
  },
  {
   "cell_type": "code",
   "execution_count": 38,
   "id": "0a75985c-b395-43a0-9337-34df388a7b65",
   "metadata": {},
   "outputs": [
    {
     "name": "stdout",
     "output_type": "stream",
     "text": [
      "{'cherry', 'banana', 'apple'}\n"
     ]
    }
   ],
   "source": [
    "#Duplicate values will be ignored:\n",
    "set = {\"apple\", \"banana\", \"cherry\", \"apple\"}\n",
    "\n",
    "print(set)\n"
   ]
  },
  {
   "cell_type": "code",
   "execution_count": 39,
   "id": "41172c6b-189c-4d2d-bb96-ae4be192fadf",
   "metadata": {},
   "outputs": [
    {
     "name": "stdout",
     "output_type": "stream",
     "text": [
      "{True, 'cherry', 2, 'banana', 'apple'}\n"
     ]
    }
   ],
   "source": [
    "#True and 1 is considered the same value:\n",
    "\n",
    "set = {\"apple\", \"banana\", \"cherry\", True, 1, 2}\n",
    "print(set)"
   ]
  },
  {
   "cell_type": "code",
   "execution_count": 40,
   "id": "e1bdbdb7-5f3d-49d0-ab0a-0bd459c70410",
   "metadata": {},
   "outputs": [
    {
     "name": "stdout",
     "output_type": "stream",
     "text": [
      "{False, True, 'cherry', 'banana', 'apple'}\n"
     ]
    }
   ],
   "source": [
    "#False and 0 is considered the same value:\n",
    "\n",
    "set = {\"apple\", \"banana\", \"cherry\", False, True, 0}\n",
    "print(set)"
   ]
  },
  {
   "cell_type": "code",
   "execution_count": 41,
   "id": "012a7efa-204c-4f02-84cb-29792f93ba1c",
   "metadata": {},
   "outputs": [
    {
     "name": "stdout",
     "output_type": "stream",
     "text": [
      "3\n"
     ]
    }
   ],
   "source": [
    "#To determine how many items a set has, use the len() function.\n",
    "set = {\"apple\", \"banana\", \"cherry\"}\n",
    "print(len(set))"
   ]
  },
  {
   "cell_type": "code",
   "execution_count": 52,
   "id": "37d3f9fa-1fec-4a2f-b0e7-bbe36c3a34f1",
   "metadata": {},
   "outputs": [
    {
     "name": "stdout",
     "output_type": "stream",
     "text": [
      "('apple', 'banana', 'cherry')\n"
     ]
    }
   ],
   "source": [
    "#Using the set() constructor to make a set:\n",
    "\n",
    "Fruits = ((\"apple\", \"banana\", \"cherry\"))\n",
    "print(Fruits)"
   ]
  },
  {
   "cell_type": "code",
   "execution_count": 55,
   "id": "7e2d3bc6-aa98-4704-9d5f-c677dd9e6436",
   "metadata": {},
   "outputs": [
    {
     "name": "stdout",
     "output_type": "stream",
     "text": [
      "<class 'set'>\n"
     ]
    }
   ],
   "source": [
    "#type()\n",
    "#From Python's perspective, sets are defined as objects with the data type 'set':\n",
    "\n",
    "set = {\"apple\", \"banana\", \"cherry\"}\n",
    "print(type(set))"
   ]
  },
  {
   "cell_type": "markdown",
   "id": "243de69f-d03e-4030-aa31-c3f980bf9294",
   "metadata": {},
   "source": [
    "QUES : 7 Describe how to add, modify, and delete items in a dictionary with examples?\n",
    "\n",
    "Adding Items\n",
    "Adding an item to the dictionary is done by using a new index key and assigning a value to it:"
   ]
  },
  {
   "cell_type": "code",
   "execution_count": 4,
   "id": "65ffe23a-4981-42cf-9494-707a9103007a",
   "metadata": {},
   "outputs": [
    {
     "name": "stdout",
     "output_type": "stream",
     "text": [
      "{'brand': 'Ford', 'model': 'Mustang', 'year': 1964, 'color': 'blue'}\n"
     ]
    }
   ],
   "source": [
    "car = {\n",
    "  \"brand\": \"Ford\",\n",
    "  \"model\": \"Mustang\",\n",
    "  \"year\": 1964\n",
    "}\n",
    "car[\"color\"] = \"blue\"\n",
    "print(car)"
   ]
  },
  {
   "cell_type": "markdown",
   "id": "f928155d-6148-441d-8a50-9ff15971c5a1",
   "metadata": {},
   "source": [
    "Update/Modify Dictionary\n",
    "The update() method will update the dictionary with the items from a given argument. If the item does not exist, the item will be added.\n",
    "\n",
    "The argument must be a dictionary, or an iterable object with key:value pairs."
   ]
  },
  {
   "cell_type": "code",
   "execution_count": 6,
   "id": "22c8bf90-2d47-45fe-aba1-bc3c56137372",
   "metadata": {},
   "outputs": [
    {
     "name": "stdout",
     "output_type": "stream",
     "text": [
      "{'brand': 'Ford', 'model': 'Mustang', 'year': 1964, 'color': 'red'}\n"
     ]
    }
   ],
   "source": [
    "car = {\n",
    "  \"brand\": \"Ford\",\n",
    "  \"model\": \"Mustang\",\n",
    "  \"year\": 1964\n",
    "}\n",
    "car.update({\"color\": \"red\"})\n",
    "print(car)"
   ]
  },
  {
   "cell_type": "markdown",
   "id": "3b56822b-3156-4476-844b-94836726f350",
   "metadata": {},
   "source": [
    "Removing Items\n",
    "There are several methods to remove items from a dictionary:"
   ]
  },
  {
   "cell_type": "code",
   "execution_count": 12,
   "id": "4ff60d10-913d-436c-906d-3296c60ff40b",
   "metadata": {},
   "outputs": [
    {
     "name": "stdout",
     "output_type": "stream",
     "text": [
      "{'brand': 'Ford', 'year': 1964, 'colour': 'blue'}\n"
     ]
    }
   ],
   "source": [
    "#The pop() method removes the item with the specified key name:\n",
    "\n",
    "car = {\n",
    "  \"brand\": \"Ford\",\n",
    "  \"model\": \"Mustang\",\n",
    "  \"year\": 1964,\n",
    "  \"colour\": \"blue\"\n",
    "}\n",
    "car.pop(\"model\")\n",
    "print(car)"
   ]
  },
  {
   "cell_type": "code",
   "execution_count": 17,
   "id": "36a14b42-1353-432b-996d-ace5a5597007",
   "metadata": {},
   "outputs": [
    {
     "name": "stdout",
     "output_type": "stream",
     "text": [
      "{'brand': 'Ford', 'model': 'Mustang', 'year': 1964}\n"
     ]
    }
   ],
   "source": [
    "#The popitem() method removes the last inserted item\n",
    "\n",
    "car = {\n",
    "  \"brand\": \"Ford\",\n",
    "  \"model\": \"Mustang\",\n",
    "  \"year\": 1964,\n",
    "  \"colour\": \"blue\"\n",
    "}\n",
    "car.popitem()\n",
    "print(car)"
   ]
  },
  {
   "cell_type": "code",
   "execution_count": 18,
   "id": "0b1cca7a-33ed-463c-bc06-23a55da0cb65",
   "metadata": {},
   "outputs": [
    {
     "name": "stdout",
     "output_type": "stream",
     "text": [
      "{'brand': 'Ford', 'year': 1964, 'colour': 'blue'}\n"
     ]
    }
   ],
   "source": [
    "# The del keyword removes the item with the specified key name:\n",
    "\n",
    "car = {\n",
    "  \"brand\": \"Ford\",\n",
    "  \"model\": \"Mustang\",\n",
    "  \"year\": 1964,\n",
    "  \"colour\": \"blue\"\n",
    "}\n",
    "del car[\"model\"]\n",
    "print(car)"
   ]
  },
  {
   "cell_type": "code",
   "execution_count": 19,
   "id": "037054af-04ff-4582-9fc7-6ac50dab226b",
   "metadata": {},
   "outputs": [
    {
     "ename": "NameError",
     "evalue": "name 'car' is not defined",
     "output_type": "error",
     "traceback": [
      "\u001b[0;31m---------------------------------------------------------------------------\u001b[0m",
      "\u001b[0;31mNameError\u001b[0m                                 Traceback (most recent call last)",
      "Cell \u001b[0;32mIn[19], line 10\u001b[0m\n\u001b[1;32m      3\u001b[0m car \u001b[38;5;241m=\u001b[39m {\n\u001b[1;32m      4\u001b[0m   \u001b[38;5;124m\"\u001b[39m\u001b[38;5;124mbrand\u001b[39m\u001b[38;5;124m\"\u001b[39m: \u001b[38;5;124m\"\u001b[39m\u001b[38;5;124mFord\u001b[39m\u001b[38;5;124m\"\u001b[39m,\n\u001b[1;32m      5\u001b[0m   \u001b[38;5;124m\"\u001b[39m\u001b[38;5;124mmodel\u001b[39m\u001b[38;5;124m\"\u001b[39m: \u001b[38;5;124m\"\u001b[39m\u001b[38;5;124mMustang\u001b[39m\u001b[38;5;124m\"\u001b[39m,\n\u001b[1;32m      6\u001b[0m   \u001b[38;5;124m\"\u001b[39m\u001b[38;5;124myear\u001b[39m\u001b[38;5;124m\"\u001b[39m: \u001b[38;5;241m1964\u001b[39m,\n\u001b[1;32m      7\u001b[0m   \u001b[38;5;124m\"\u001b[39m\u001b[38;5;124mcolour\u001b[39m\u001b[38;5;124m\"\u001b[39m: \u001b[38;5;124m\"\u001b[39m\u001b[38;5;124mblue\u001b[39m\u001b[38;5;124m\"\u001b[39m\n\u001b[1;32m      8\u001b[0m }\n\u001b[1;32m      9\u001b[0m \u001b[38;5;28;01mdel\u001b[39;00m car\n\u001b[0;32m---> 10\u001b[0m \u001b[38;5;28mprint\u001b[39m(\u001b[43mcar\u001b[49m)\n",
      "\u001b[0;31mNameError\u001b[0m: name 'car' is not defined"
     ]
    }
   ],
   "source": [
    "# The del keyword can also delete the dictionary completely:\n",
    "\n",
    "car = {\n",
    "  \"brand\": \"Ford\",\n",
    "  \"model\": \"Mustang\",\n",
    "  \"year\": 1964,\n",
    "  \"colour\": \"blue\"\n",
    "}\n",
    "del car\n",
    "print(car)\n"
   ]
  },
  {
   "cell_type": "code",
   "execution_count": 20,
   "id": "0f44fe81-c321-4c85-b50f-aabcc5c552a8",
   "metadata": {},
   "outputs": [
    {
     "name": "stdout",
     "output_type": "stream",
     "text": [
      "{}\n"
     ]
    }
   ],
   "source": [
    "# he clear() method empties the dictionary:\n",
    "\n",
    "car = {\n",
    "  \"brand\": \"Ford\",\n",
    "  \"model\": \"Mustang\",\n",
    "  \"year\": 1964,\n",
    "  \"colour\": \"blue\"\n",
    "}\n",
    "car.clear()\n",
    "print(car)"
   ]
  },
  {
   "cell_type": "markdown",
   "id": "64940739-cfe8-4f9f-99e2-782144707401",
   "metadata": {},
   "source": [
    "QUES : 8 Discuss the importance of dictionary keys being immutable and provide examples?\n",
    "\n",
    "Dictionary keys must be immutable, meaning they cannot be changed after their creation. This requirement is crucial for several reasons, primarily related to the integrity and efficiency of dictionary operations. \n",
    "\n",
    "Dictionary keys need to be immutable for several important reasons:\n",
    "\n",
    "Consistency: Immutability ensures that the key's hash value remains constant throughout its lifetime. This consistency is crucial for the internal workings of the dictionary, which relies on hashing to quickly locate and retrieve values associated with specific keys.\n",
    "\n",
    "Hashing: Dictionaries in many programming languages use hash tables to store and retrieve data efficiently. Immutable keys have a stable hash value, which means the dictionary can quickly locate the associated value using this hash. If keys were mutable, their hash values could change, leading to inconsistencies and making it difficult for the dictionary to find the correct value.\n",
    "\n",
    "Data Integrity: Immutability prevents the key from being altered after it has been added to the dictionary. This protects the integrity of the data structure and ensures that the key-value relationship remains valid and reliable.\n",
    "\n",
    "Performance: Immutable keys can be used to optimize performance. Since their hash values do not change, the dictionary can maintain a stable and efficient indexing system, leading to faster lookups and more efficient memory usage.\n",
    "\n",
    "Avoiding Logical Errors: Allowing mutable objects as dictionary keys could lead to logical errors and bugs. For example, if a key were mutable and its value changed, it might not correctly map to the corresponding value anymore, causing unexpected behavior in the program.\n"
   ]
  },
  {
   "cell_type": "code",
   "execution_count": 3,
   "id": "8a47caa5-9f9b-47c6-80e5-267ca3979a16",
   "metadata": {},
   "outputs": [
    {
     "ename": "TypeError",
     "evalue": "unhashable type: 'list'",
     "output_type": "error",
     "traceback": [
      "\u001b[0;31m---------------------------------------------------------------------------\u001b[0m",
      "\u001b[0;31mTypeError\u001b[0m                                 Traceback (most recent call last)",
      "Cell \u001b[0;32mIn[3], line 6\u001b[0m\n\u001b[1;32m      4\u001b[0m a \u001b[38;5;241m=\u001b[39m {}\n\u001b[1;32m      5\u001b[0m key \u001b[38;5;241m=\u001b[39m [\u001b[38;5;241m1\u001b[39m, \u001b[38;5;241m2\u001b[39m, \u001b[38;5;241m3\u001b[39m]\n\u001b[0;32m----> 6\u001b[0m \u001b[43ma\u001b[49m\u001b[43m[\u001b[49m\u001b[43mkey\u001b[49m\u001b[43m]\u001b[49m \u001b[38;5;241m=\u001b[39m \u001b[38;5;124m\"\u001b[39m\u001b[38;5;124mvalue\u001b[39m\u001b[38;5;124m\"\u001b[39m\n\u001b[1;32m      8\u001b[0m key\u001b[38;5;241m.\u001b[39mappend(\u001b[38;5;241m4\u001b[39m)\n\u001b[1;32m      9\u001b[0m \u001b[38;5;28mprint\u001b[39m(a\u001b[38;5;241m.\u001b[39mget([\u001b[38;5;241m1\u001b[39m, \u001b[38;5;241m2\u001b[39m, \u001b[38;5;241m3\u001b[39m]))\n",
      "\u001b[0;31mTypeError\u001b[0m: unhashable type: 'list'"
     ]
    }
   ],
   "source": [
    "#Example \n",
    "\n",
    "# This will raise an error because lists are mutable and cannot be used as dictionary keys.\n",
    "a = {}\n",
    "key = [1, 2, 3]\n",
    "a[key] = \"value\"\n",
    "\n",
    "key.append(4)\n",
    "print(a.get([1, 2, 3]))"
   ]
  },
  {
   "cell_type": "code",
   "execution_count": 4,
   "id": "f60286a8-6c15-43cf-acc2-40e7bf9a35a6",
   "metadata": {},
   "outputs": [
    {
     "name": "stdout",
     "output_type": "stream",
     "text": [
      "None\n"
     ]
    }
   ],
   "source": [
    "# Example using a custom mutable object as a key\n",
    "class MutableKey:\n",
    "    def __init__(self, value):\n",
    "        self.value = value\n",
    "    def __hash__(self):\n",
    "        return hash(self.value)\n",
    "    def __eq__(self, other):\n",
    "        return self.value == other.value\n",
    "\n",
    "\n",
    "key = MutableKey(\"initial\")\n",
    "my_dict = {key: \"value\"}\n",
    "\n",
    "\n",
    "key.value = \"changed\"\n",
    "\n",
    "\n",
    "print(my_dict.get(MutableKey(\"initial\")))  \n",
    "\n"
   ]
  },
  {
   "cell_type": "code",
   "execution_count": null,
   "id": "f6557563-2bd8-452d-bb62-4afd76c1cbed",
   "metadata": {},
   "outputs": [],
   "source": []
  }
 ],
 "metadata": {
  "kernelspec": {
   "display_name": "Python 3 (ipykernel)",
   "language": "python",
   "name": "python3"
  },
  "language_info": {
   "codemirror_mode": {
    "name": "ipython",
    "version": 3
   },
   "file_extension": ".py",
   "mimetype": "text/x-python",
   "name": "python",
   "nbconvert_exporter": "python",
   "pygments_lexer": "ipython3",
   "version": "3.10.8"
  }
 },
 "nbformat": 4,
 "nbformat_minor": 5
}
