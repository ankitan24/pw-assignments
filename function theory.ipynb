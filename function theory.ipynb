{
 "cells": [
  {
   "cell_type": "markdown",
   "id": "1d7c67aa-104d-456c-9781-715111410e54",
   "metadata": {},
   "source": [
    "ASSIGNMENT FUNCTION"
   ]
  },
  {
   "cell_type": "markdown",
   "id": "b81c8bc5-3fbf-4859-b5d2-0eb78c9bd045",
   "metadata": {},
   "source": [
    "QUES 1 : What is the difference between a function and a method in Python?\n",
    "\n",
    "FUNCTION : A function is a block of code which only runs when it is called.\n",
    "You can pass data, known as parameters, into a function.\n",
    "A function can return data as a result.\n",
    "Functions can be called independently of any object.\n",
    "\n",
    "\n",
    "METHOD: A method is a function that is associated with an object (instance of a class) or a class itself. It is defined within a class and operates on the data contained within that object or class.\n",
    "\n",
    "Instance Method: A method that operates on an instance of a class. It takes self as its first parameter.\n",
    "\n",
    "Class Method: A method that operates on the class itself rather than on instances of the class. It takes cls as its first parameter.\n",
    "\n",
    "Static Method: A method that does not operate on an instance or class but belongs to the class's namespace.\n"
   ]
  },
  {
   "cell_type": "code",
   "execution_count": 1,
   "id": "a4c6270e-6c5f-47da-b152-908bae40583a",
   "metadata": {},
   "outputs": [
    {
     "name": "stdout",
     "output_type": "stream",
     "text": [
      "Hello ANKIT\n"
     ]
    }
   ],
   "source": [
    "#example of fumction\n",
    "\n",
    "def greet(name):\n",
    "    print(\"Hello\", name)\n",
    "\n",
    "greet(\"ANKIT\")"
   ]
  },
  {
   "cell_type": "code",
   "execution_count": 12,
   "id": "34ca734e-617d-4bd9-a454-7f9135edb19f",
   "metadata": {},
   "outputs": [
    {
     "name": "stdout",
     "output_type": "stream",
     "text": [
      "I am in class\n"
     ]
    }
   ],
   "source": [
    "#example of method\n",
    "\n",
    "class ABC :\n",
    "\tdef method_abc (self):\n",
    "\t\tprint(\"I am in class\")\n",
    "\n",
    "class_ref = ABC() \n",
    "class_ref.method_abc()\n",
    " "
   ]
  },
  {
   "cell_type": "code",
   "execution_count": null,
   "id": "0488ac9e-a3f2-4e14-9407-3f7f30364f65",
   "metadata": {},
   "outputs": [],
   "source": [
    "\n"
   ]
  },
  {
   "cell_type": "raw",
   "id": "99d8f44a-6f4f-42e0-9076-5458b974f2ec",
   "metadata": {},
   "source": [
    "QUES : 2 Explain the concept of function arguments and parameters in Python?\n",
    "\n",
    "Arguments:\n",
    "\n",
    "Arguments are the actual values or data you provide to the function when you call it. These values are assigned to the parameters defined in the function\n",
    ".\n",
    "Types of Arguments\n",
    "\n",
    "Positional Arguments:\n",
    "These arguments are assigned to parameters based on their position in the function call.\n",
    "Keyword Arguments: These arguments specify the parameter name along with the value. They allow you to pass arguments in any order.\n",
    "\n",
    "Default Arguments:\n",
    "Parameters can have default values. If an argument is not provided for a parameter with a default value, the default is used.\n",
    "\n",
    "Variable-Length Arguments:\n",
    "Python allows you to handle functions with an unknown number of arguments.\n",
    "\n",
    "\n",
    "\n",
    "Parameters :\n",
    "\n",
    "Parameters are variables listed in a function's definition. They act as placeholders for the values (arguments) that you pass to the function when you call it.\n"
   ]
  },
  {
   "cell_type": "code",
   "execution_count": 18,
   "id": "f1ff196d-a0c6-4bf2-99d1-571505ae6c34",
   "metadata": {},
   "outputs": [
    {
     "name": "stdout",
     "output_type": "stream",
     "text": [
      "Meet Akash, a Writer from Delhi.\n"
     ]
    }
   ],
   "source": [
    "#example of argument\n",
    "\n",
    "def meet(name,job_title,city):\n",
    "    return f\"Meet {name}, a {job_title} from {city}.\"\n",
    "meet1 = meet('Akash','Writer','Delhi')\n",
    "print(meet1)\n",
    "\n"
   ]
  },
  {
   "cell_type": "code",
   "execution_count": 27,
   "id": "257f64a8-b84e-416f-b6e2-bf7fcad7b859",
   "metadata": {},
   "outputs": [
    {
     "name": "stdout",
     "output_type": "stream",
     "text": [
      "20\n"
     ]
    }
   ],
   "source": [
    "# example of parameter\n",
    "\n",
    "def multiply(a, b):\n",
    "    result = a * b\n",
    "    return result\n",
    "\n",
    "product = multiply(4, 5)\n",
    "print(product) \n",
    "\n"
   ]
  },
  {
   "cell_type": "code",
   "execution_count": null,
   "id": "08b1603a-434b-40fc-9566-118402e685c8",
   "metadata": {},
   "outputs": [],
   "source": []
  },
  {
   "cell_type": "raw",
   "id": "8beb06c8-b5be-4b00-b9de-38c344f3107a",
   "metadata": {},
   "source": [
    "Ques 3 : What are the different ways to define and call a function in Python ?\n",
    "\n",
    "In Python, functions can be defined and called in several ways, depending on the requirements and flexibility needed. \n",
    "\n",
    "1. Basic Function Definition and Call\n",
    "The most straightforward way to define and call a function:\n",
    "\n",
    "2. Function with Default Parameters\n",
    "You can specify default values for parameters, which are used if no value is provided for those parameters during the function call.\n",
    "\n",
    "3. Function with Variable-Length Positional Arguments\n",
    "Using *args allows the function to accept an arbitrary number of positional arguments.\n",
    "\n",
    "4. Function with Variable-Length Keyword Arguments\n",
    "Using **kwargs allows the function to accept an arbitrary number of keyword arguments.\n",
    "\n",
    "5. Lambda Functions\n",
    "Lambda functions are small, anonymous functions defined using the lambda keyword. They are useful for short operations that can be written in a single line.\n",
    "\n",
    "\n",
    "6. Nested Functions\n",
    "Functions can be defined within other functions. These are called nested functions and can access variables from the enclosing function.\n",
    "\n",
    "7. Function with Annotations\n",
    "Python allows you to add annotations to function parameters and return values, which can be used for type hinting and documentation.\n",
    "\n",
    "\n",
    "8. Function as an Object\n",
    "In Python, functions are first-class objects, meaning you can assign them to variables, pass them as arguments, and return them from other functions.\n",
    "\n"
   ]
  },
  {
   "cell_type": "code",
   "execution_count": 29,
   "id": "d06cf178-132b-4856-b9c3-10959ee263d9",
   "metadata": {},
   "outputs": [
    {
     "name": "stdout",
     "output_type": "stream",
     "text": [
      "name: Ankit\n",
      "age: 25\n",
      "city: lucknow\n"
     ]
    }
   ],
   "source": [
    "#example\n",
    "\n",
    "def print_info(**kwargs):\n",
    "    for key, value in kwargs.items():\n",
    "        print(f\"{key}: {value}\")\n",
    "print_info(name=\"Ankit\", age=25, city=\"lucknow\")"
   ]
  },
  {
   "cell_type": "code",
   "execution_count": null,
   "id": "9f9f47d0-1596-4619-b889-a794391dac5b",
   "metadata": {},
   "outputs": [],
   "source": []
  },
  {
   "cell_type": "raw",
   "id": "d48ff131-985b-4e69-8534-12ba0cce84f9",
   "metadata": {},
   "source": [
    "Ques : 4 , What is the purpose of the `return` statement in a Python function?\n",
    "\n",
    "Returning a Value: The return statement provides a way to return a result from a function to its caller.\n",
    "Exiting Early: It allows a function to exit before reaching the end of its body, often based on some condition.\n",
    "Returning Multiple Values: Functions can return multiple values as a tuple.\n",
    "Returning None: If no return statement is used or return is used without an expression, the function returns None by default."
   ]
  },
  {
   "cell_type": "code",
   "execution_count": 37,
   "id": "932d90a0-7907-4cc8-b315-1fffa490776d",
   "metadata": {},
   "outputs": [
    {
     "name": "stdout",
     "output_type": "stream",
     "text": [
      "0.5\n",
      "4000\n"
     ]
    }
   ],
   "source": [
    "def get_min_max(numbers):\n",
    "    return min(numbers), max(numbers)\n",
    "min_value, max_value = get_min_max([10, 200, 30, 4000, 0.5])\n",
    "print(min_value) \n",
    "print(max_value) \n"
   ]
  },
  {
   "cell_type": "code",
   "execution_count": null,
   "id": "0f722adc-8f1a-47d6-8c25-bc896545afff",
   "metadata": {},
   "outputs": [],
   "source": []
  },
  {
   "cell_type": "code",
   "execution_count": null,
   "id": "325e0727-890e-47f0-b2a7-ffbc72c05a69",
   "metadata": {},
   "outputs": [],
   "source": []
  },
  {
   "cell_type": "raw",
   "id": "df9638c6-6108-4952-8525-deefd2d5f095",
   "metadata": {},
   "source": [
    "Ques :5 What are iterators in Python and how do they differ from iterables ?\n",
    "\n",
    "Python Iterators\n",
    "An iterator is an object that contains a countable number of values.\n",
    "\n",
    "An iterator is an object that can be iterated upon, meaning that you can traverse through all the values.\n",
    "\n",
    "Technically, in Python, an iterator is an object which implements the iterator protocol, which consist of the methods __iter__() and __next__().\n",
    "\n",
    "Lists, tuples, dictionaries, and sets are all iterable objects. They are iterable containers which you can get an iterator from.\n",
    "\n",
    "All these objects have a iter() method which is used to get an iterator:\n"
   ]
  },
  {
   "cell_type": "code",
   "execution_count": 40,
   "id": "a673a45b-ae01-4818-bf0a-c765cb3791a5",
   "metadata": {},
   "outputs": [
    {
     "name": "stdout",
     "output_type": "stream",
     "text": [
      "apple\n",
      "banana\n",
      "cherry\n",
      "mango\n"
     ]
    }
   ],
   "source": [
    "fruits = (\"apple\", \"banana\", \"cherry\",\"mango\")\n",
    "myit = iter(fruits)\n",
    "\n",
    "print(next(myit))\n",
    "print(next(myit))\n",
    "print(next(myit))\n",
    "print(next(myit))\n"
   ]
  },
  {
   "cell_type": "code",
   "execution_count": null,
   "id": "f0d37298-1991-46a9-94c0-eedf7edbb093",
   "metadata": {},
   "outputs": [],
   "source": []
  },
  {
   "cell_type": "raw",
   "id": "eb526a71-82c0-4545-8f3f-5b6b73970d6d",
   "metadata": {},
   "source": [
    "Ques :6  Explain the concept of generators in Python and how they are defined.\n",
    "\n",
    "Generators in Python are a type of iterable, like lists or tuples, but with a key difference: they generate values on-the-fly and do not store them in memory. This allows them to be more memory-efficient when working with large data sets or streams of data.\n",
    "\n",
    "Defining Generators\n",
    "Generators are defined using functions with the yield statement. Here's a breakdown of how to define and use them:\n",
    "\n",
    "Defining Generators\n",
    "Generators are defined using functions with the yield statement. Here's a breakdown of how to define and use them:\n",
    "\n",
    "Generator Expressions\n",
    "Generator expressions provide a concise way to create generators, similar to list comprehensions but using parentheses () instead of square brackets [].\n",
    "\n",
    "Advantages of Generators\n",
    "Memory Efficiency: Generators produce items one at a time and do not store the entire sequence in memory. This is especially useful for large data sets.\n",
    "\n",
    "Performance: Generators can be faster for certain operations because they yield items one at a time, reducing the overhead of creating large data structures.\n",
    "\n",
    "Infinite Sequences: Generators can model infinite sequences (e.g., Fibonacci numbers) without consuming infinite memory.\n"
   ]
  },
  {
   "cell_type": "code",
   "execution_count": 43,
   "id": "94b20754-0c5b-42e1-b70b-78abfcde1e15",
   "metadata": {},
   "outputs": [
    {
     "name": "stdout",
     "output_type": "stream",
     "text": [
      "1\n",
      "2\n",
      "3\n",
      "4\n",
      "5\n",
      "6\n",
      "7\n",
      "8\n",
      "9\n",
      "10\n",
      "11\n",
      "12\n"
     ]
    }
   ],
   "source": [
    "def count_up_to(max):\n",
    "    count = 1\n",
    "    while count <= max:\n",
    "        yield count\n",
    "        count += 1\n",
    "\n",
    "counter = count_up_to(12)\n",
    "\n",
    "for number in counter:\n",
    "    print(number)\n"
   ]
  },
  {
   "cell_type": "code",
   "execution_count": null,
   "id": "3ec13488-b6e3-47be-91a1-fc7abb49c4df",
   "metadata": {},
   "outputs": [],
   "source": []
  },
  {
   "cell_type": "raw",
   "id": "66287943-ad39-485d-a2ac-7de54b8c5740",
   "metadata": {},
   "source": [
    "Ques :8  What is a lambda function in Python and when is it typically used?\n",
    "\n",
    "A lambda function is a small anonymous function.\n",
    "\n",
    "A lambda function can take any number of arguments, but can only have one expression.\n",
    "\n",
    "Syntax\n",
    "lambda arguments : expression\n",
    "The expression is executed and the result is returned:\n",
    "Lambda functions can take any number of arguments\n",
    "Lambda Functions: Anonymous functions defined with the lambda keyword.\n",
    "Multiple Arguments: Lambda functions can take any number of arguments.\n",
    "Single Expression: The body of a lambda function is limited to a single expression.\n",
    "Common Uses: Often used with functions like map(), filter(), and sorted() for concise operations."
   ]
  },
  {
   "cell_type": "code",
   "execution_count": 46,
   "id": "66e0f0b5-9c72-472a-96e7-346d2ba283c7",
   "metadata": {},
   "outputs": [
    {
     "name": "stdout",
     "output_type": "stream",
     "text": [
      "404\n"
     ]
    }
   ],
   "source": [
    "def myfunc(n):\n",
    "  return lambda a : a * n\n",
    "\n",
    "mytripler = myfunc(4)\n",
    "\n",
    "print(mytripler(101))\n",
    "\n"
   ]
  },
  {
   "cell_type": "code",
   "execution_count": null,
   "id": "8d62e340-a58c-47c9-af09-e8c64da942fe",
   "metadata": {},
   "outputs": [],
   "source": []
  },
  {
   "cell_type": "raw",
   "id": "17c57878-90ba-4da1-a489-a1c88d651f6a",
   "metadata": {},
   "source": [
    "Ques : 9 Explain the purpose and usage of the `map()` function in Python.\n",
    "\n",
    "The map() function in Python is a built-in function that allows you to apply a given function to each item in an iterable (like a list, tuple, etc.) and return an iterator that produces the results.\n",
    "\n",
    "Purpose:\n",
    "The main purpose of map() is to transform each element in an iterable according to a specified function. It’s a convenient way to process and modify data in a collection without having to write explicit loops.\n",
    "\n",
    "function: A function that takes one or more arguments and returns a value. This function will be applied to each item in the iterable.\n",
    "iterable: An iterable (like a list, tuple, etc.) whose items will be processed by the function.\n",
    "\n"
   ]
  },
  {
   "cell_type": "code",
   "execution_count": 2,
   "id": "48a7310b-ed0f-41c8-86e2-381290f95b5c",
   "metadata": {},
   "outputs": [
    {
     "name": "stdout",
     "output_type": "stream",
     "text": [
      "[16, 36, 64, 100, 225]\n"
     ]
    }
   ],
   "source": [
    "#square of numbers:\n",
    "\n",
    "numbers = [4, 6, 8, 10,15]\n",
    "\n",
    "squared_numbers = map(lambda x: x * x, numbers)  # Using lambda to square each number\n",
    "\n",
    "print(list(squared_numbers))\n"
   ]
  },
  {
   "cell_type": "code",
   "execution_count": null,
   "id": "32e56efc-7a2c-421c-afe7-c9e238c02323",
   "metadata": {},
   "outputs": [],
   "source": []
  },
  {
   "cell_type": "code",
   "execution_count": null,
   "id": "e263a73b-7f8f-48b8-a1d7-78aa066d4679",
   "metadata": {},
   "outputs": [],
   "source": []
  },
  {
   "cell_type": "raw",
   "id": "99d53bcf-4db6-4c52-8362-c2ece5c04bb6",
   "metadata": {},
   "source": [
    "QUES : 9 - What is the difference between `map()`, `reduce()`, and `filter()` functions in Python?\n",
    "\n",
    "The map() function in Python is a built-in function that allows you to apply a given function to each item in an iterable (like a list, tuple, etc.) and return an iterator that produces the results.\n",
    "\n",
    "Purpose:\n",
    "The main purpose of map() is to transform each element in an iterable according to a specified function. It’s a convenient way to process and modify data in a collection without having to write explicit loops.\n",
    "\n",
    "\n",
    "The reduce() function starts with the first two elements of an iterable, applies the function to them, then uses the result with the next element. This process continues until all elements are processed, resulting in a single cumulative value.\n",
    "\n",
    "Explanation of Parameters:\n",
    "\n",
    "function: The function to apply to the elements of the iterable. It must take two arguments.\n",
    "iterable: The iterable whose elements you want to reduce. It can be a list, tuple, or any other iterable.\n",
    "initializer (optional): The starting value. It is used as the first argument in the first function call if provided.\n",
    "\n",
    "\n",
    "The filter() function in Python is used to construct an iterator from elements of an iterable for which a function returns True. Essentially, it filters elements from an iterable based on a condition defined by the function.\n",
    "#syntax\n",
    "function: A function that takes a single argument and returns either True or False. This function is applied to each item in the iterable.\n",
    "iterable: An iterable (like a list, tuple, etc.) whose items will be tested by the function.\n",
    "\n"
   ]
  },
  {
   "cell_type": "code",
   "execution_count": 3,
   "id": "2669da57-69e6-4692-89af-629bab0e347e",
   "metadata": {},
   "outputs": [
    {
     "name": "stdout",
     "output_type": "stream",
     "text": [
      "[4, 16, 36, 64, 100]\n"
     ]
    }
   ],
   "source": [
    "#example of map()\n",
    "\n",
    "#square of numbers:\n",
    "\n",
    "numbers = [2,4,6,8,10]\n",
    "        \n",
    "\n",
    "squared_numbers = map(lambda x: x * x, numbers)  # Using lambda to square each number\n",
    "\n",
    "print(list(squared_numbers))"
   ]
  },
  {
   "cell_type": "code",
   "execution_count": 6,
   "id": "8617109f-a208-44b4-8cd5-3005283d2c20",
   "metadata": {},
   "outputs": [
    {
     "name": "stdout",
     "output_type": "stream",
     "text": [
      "3840\n"
     ]
    }
   ],
   "source": [
    "#example of reduce()\n",
    "\n",
    "from functools import reduce\n",
    "\n",
    "numbers = [2,4,6,8,10]\n",
    "\n",
    "def multiply(x, y):   # Function to multiply two numbers\n",
    "    return x * y\n",
    "\n",
    "product = reduce(multiply, numbers)  # Reduce the list by applying the multiply function\n",
    "\n",
    "print(product)\n"
   ]
  },
  {
   "cell_type": "code",
   "execution_count": 9,
   "id": "9dd9b2db-3179-4cf0-8886-ebdff7fb722b",
   "metadata": {},
   "outputs": [
    {
     "name": "stdout",
     "output_type": "stream",
     "text": [
      "[8, 14, 20]\n"
     ]
    }
   ],
   "source": [
    "#example of filter()\n",
    "\n",
    "# Function to check if a number is even\n",
    "def is_even(x):\n",
    "    return x % 2 == 0\n",
    "\n",
    "numbers = [7,8,11,14,17,20]\n",
    "\n",
    "even_numbers = filter(is_even, numbers)   # Apply the function to each item in the list\n",
    "\n",
    "# Convert the result to a list and print it\n",
    "print(list(even_numbers))\n"
   ]
  },
  {
   "cell_type": "code",
   "execution_count": null,
   "id": "ce742ff4-31e0-4783-a8ba-c1e69aed782b",
   "metadata": {},
   "outputs": [],
   "source": []
  },
  {
   "cell_type": "raw",
   "id": "bee369a4-af85-4d6c-a5c6-681d708a18d5",
   "metadata": {},
   "source": [
    "QUES 11. Using pen & Paper write the internal mechanism for sum operation using reduce function on this given\n",
    "list:[47,11,42,13];\n"
   ]
  },
  {
   "cell_type": "code",
   "execution_count": 11,
   "id": "ed9057b0-7e07-4992-80f9-ac3e3d521d67",
   "metadata": {},
   "outputs": [
    {
     "name": "stdout",
     "output_type": "stream",
     "text": [
      "113\n"
     ]
    }
   ],
   "source": [
    "from functools import reduce\n",
    "\n",
    "def add(x, y):\n",
    "    return x + y\n",
    "\n",
    "numbers = [47, 11, 42, 13]\n",
    "\n",
    "total = reduce(add, numbers)\n",
    "\n",
    "print(total)  \n"
   ]
  },
  {
   "cell_type": "code",
   "execution_count": null,
   "id": "86f7a581-caf0-48cc-8578-35951633a9d0",
   "metadata": {},
   "outputs": [],
   "source": []
  }
 ],
 "metadata": {
  "kernelspec": {
   "display_name": "Python 3 (ipykernel)",
   "language": "python",
   "name": "python3"
  },
  "language_info": {
   "codemirror_mode": {
    "name": "ipython",
    "version": 3
   },
   "file_extension": ".py",
   "mimetype": "text/x-python",
   "name": "python",
   "nbconvert_exporter": "python",
   "pygments_lexer": "ipython3",
   "version": "3.10.8"
  }
 },
 "nbformat": 4,
 "nbformat_minor": 5
}
