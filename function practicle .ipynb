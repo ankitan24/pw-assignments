{
 "cells": [
  {
   "cell_type": "markdown",
   "id": "5b3b2a22-ec4d-4a14-becf-7895f20675a6",
   "metadata": {},
   "source": [
    "FUNCTION PRACTICLE SOLUTIONS"
   ]
  },
  {
   "cell_type": "markdown",
   "id": "526e07db-62a9-4294-8445-91741e29b387",
   "metadata": {},
   "source": [
    "QUES 1: Write a Python function that takes a list of numbers as input and returns the sum of all even numbers in\n",
    "the list."
   ]
  },
  {
   "cell_type": "code",
   "execution_count": 2,
   "id": "537559dd-eb94-410a-8cb2-86fcde4365dd",
   "metadata": {},
   "outputs": [
    {
     "name": "stdout",
     "output_type": "stream",
     "text": [
      "90\n"
     ]
    }
   ],
   "source": [
    "def sum_even_numbers(numbers):\n",
    "    \n",
    "    def is_even(x):\n",
    "        return x % 2 == 0\n",
    "    even_numbers = filter(is_even, numbers)\n",
    "    return sum(even_numbers)\n",
    "numbers = [10,11,12,13,14,15,16,17,18,19,20\n",
    "        ]\n",
    "print(sum_even_numbers(numbers))  \n"
   ]
  },
  {
   "cell_type": "code",
   "execution_count": null,
   "id": "9ae6da6c-38ce-4317-b458-0828867bae6a",
   "metadata": {},
   "outputs": [],
   "source": []
  },
  {
   "cell_type": "markdown",
   "id": "181506b8-4959-4906-8aae-2d63d78d1b84",
   "metadata": {},
   "source": [
    "QUES 2 : Create a Python function that accepts a string and returns the reverse of that string."
   ]
  },
  {
   "cell_type": "code",
   "execution_count": 4,
   "id": "7be9fc98-47bd-46ea-8bb3-1fdfe157ccb4",
   "metadata": {},
   "outputs": [
    {
     "name": "stdout",
     "output_type": "stream",
     "text": [
      "SLLIKSWP\n"
     ]
    }
   ],
   "source": [
    "def reverse_string(s):\n",
    "    reversed_str = \"\"\n",
    "    for char in s:\n",
    "        reversed_str = char + reversed_str\n",
    "    return reversed_str\n",
    "string = \"PWSKILLS\"\n",
    "print(reverse_string(string))  \n",
    "\n",
    "\n"
   ]
  },
  {
   "cell_type": "code",
   "execution_count": null,
   "id": "b078e6cf-4da0-4b61-a9c5-3a0553e6ca95",
   "metadata": {},
   "outputs": [],
   "source": []
  },
  {
   "cell_type": "markdown",
   "id": "035a55d9-ef68-4661-a435-82d90ec4627e",
   "metadata": {},
   "source": [
    "QUES 3 : Implement a Python function that takes a list of integers and returns a new list containing the squares of\n",
    "each number.\n"
   ]
  },
  {
   "cell_type": "code",
   "execution_count": 5,
   "id": "633f57ab-2570-4d42-a680-1ab1635c954c",
   "metadata": {},
   "outputs": [
    {
     "name": "stdout",
     "output_type": "stream",
     "text": [
      "[4, 16, 36, 64, 100]\n"
     ]
    }
   ],
   "source": [
    "def square_numbers(numbers):\n",
    "    return [x ** 2 for x in numbers]\n",
    "\n",
    "numbers = [2,4,6,8,10]\n",
    "squared = square_numbers(numbers)\n",
    "print(squared)  \n"
   ]
  },
  {
   "cell_type": "code",
   "execution_count": null,
   "id": "634e8799-90a6-4938-a969-1eba61bd8ed1",
   "metadata": {},
   "outputs": [],
   "source": []
  },
  {
   "cell_type": "markdown",
   "id": "31025e78-9e07-41a3-9f4f-9dbfd0138185",
   "metadata": {},
   "source": [
    "QUES 4: Write a Python function that checks if a given number is prime or not from 1 to 200.\n"
   ]
  },
  {
   "cell_type": "code",
   "execution_count": 1,
   "id": "eef1ea9c-b9ec-4ca1-9889-12e65145caaf",
   "metadata": {},
   "outputs": [
    {
     "name": "stdout",
     "output_type": "stream",
     "text": [
      "2 is a prime number\n",
      "3 is a prime number\n",
      "5 is a prime number\n",
      "7 is a prime number\n",
      "11 is a prime number\n",
      "13 is a prime number\n",
      "17 is a prime number\n",
      "19 is a prime number\n",
      "23 is a prime number\n",
      "29 is a prime number\n",
      "31 is a prime number\n",
      "37 is a prime number\n",
      "41 is a prime number\n",
      "43 is a prime number\n",
      "47 is a prime number\n",
      "53 is a prime number\n",
      "59 is a prime number\n",
      "61 is a prime number\n",
      "67 is a prime number\n",
      "71 is a prime number\n",
      "73 is a prime number\n",
      "79 is a prime number\n",
      "83 is a prime number\n",
      "89 is a prime number\n",
      "97 is a prime number\n",
      "101 is a prime number\n",
      "103 is a prime number\n",
      "107 is a prime number\n",
      "109 is a prime number\n",
      "113 is a prime number\n",
      "127 is a prime number\n",
      "131 is a prime number\n",
      "137 is a prime number\n",
      "139 is a prime number\n",
      "149 is a prime number\n",
      "151 is a prime number\n",
      "157 is a prime number\n",
      "163 is a prime number\n",
      "167 is a prime number\n",
      "173 is a prime number\n",
      "179 is a prime number\n",
      "181 is a prime number\n",
      "191 is a prime number\n",
      "193 is a prime number\n",
      "197 is a prime number\n",
      "199 is a prime number\n"
     ]
    }
   ],
   "source": [
    "def is_prime(n):\n",
    "    \n",
    "    if n <= 1:\n",
    "        return False\n",
    "    for i in range(2, int(n**0.5) + 1):\n",
    "        if n % i == 0:\n",
    "            return False\n",
    "    return True\n",
    "\n",
    "for number in range(1, 200):\n",
    "    if is_prime(number):\n",
    "        print(f\"{number} is a prime number\")\n"
   ]
  },
  {
   "cell_type": "code",
   "execution_count": null,
   "id": "c5ffa037-ca30-4563-bcad-d66cea243be3",
   "metadata": {},
   "outputs": [],
   "source": []
  },
  {
   "cell_type": "markdown",
   "id": "e18d15d6-37b0-4bc9-a65f-d65620f56e2f",
   "metadata": {},
   "source": [
    "QUES 5 : Create an iterator class in Python that generates the Fibonacci sequence up to a specified number of\n",
    "terms.\n"
   ]
  },
  {
   "cell_type": "code",
   "execution_count": 8,
   "id": "26fcbcc0-5b45-4acb-bc91-e7f250ea23b1",
   "metadata": {},
   "outputs": [
    {
     "name": "stdout",
     "output_type": "stream",
     "text": [
      "Fibonacci sequence with 15 terms:\n",
      "0 1 1 2 3 5 8 13 21 34 55 89 144 233 377 "
     ]
    }
   ],
   "source": [
    "class FibonacciIterator:\n",
    "    def __init__(self, n_terms):\n",
    "       \n",
    "\n",
    "        self.n_terms = n_terms\n",
    "        self.a, self.b = 0, 1  # Initial values for the Fibonacci sequence\n",
    "        self.count = 0  # Counter for the number of terms generated\n",
    "\n",
    "    def __iter__(self):\n",
    "       \n",
    "        return self\n",
    "\n",
    "    def __next__(self):\n",
    "        \n",
    "        if self.count >= self.n_terms:\n",
    "            raise StopIteration\n",
    "        \n",
    "        term = self.a\n",
    "        self.a, self.b = self.b, self.a + self.b\n",
    "        self.count += 1\n",
    "        return term\n",
    "\n",
    "n_terms = 15\n",
    "fib_iterator = FibonacciIterator(n_terms)\n",
    "\n",
    "print(f\"Fibonacci sequence with {n_terms} terms:\")\n",
    "for number in fib_iterator:\n",
    "    print(number, end=' ')\n"
   ]
  },
  {
   "cell_type": "code",
   "execution_count": null,
   "id": "dd335747-8e91-4bbe-af74-0cd05e286c10",
   "metadata": {},
   "outputs": [],
   "source": []
  },
  {
   "cell_type": "markdown",
   "id": "c6ed98f8-ecc8-4f7c-8c4e-587970ef60c9",
   "metadata": {},
   "source": [
    "QUES 6 : Write a generator function in Python that yields the powers of 2 up to a given exponent.\n"
   ]
  },
  {
   "cell_type": "code",
   "execution_count": 17,
   "id": "35242ce5-0e8e-4c5a-b922-f23032bc11d7",
   "metadata": {},
   "outputs": [
    {
     "name": "stdout",
     "output_type": "stream",
     "text": [
      "Powers of 2 up to 2^10:\n",
      "1 2 4 8 16 32 64 128 256 512 1024 "
     ]
    }
   ],
   "source": [
    "def powers_of_2(max_exponent):\n",
    "    \n",
    "    exponent = 0\n",
    "    while exponent <= max_exponent:\n",
    "        yield 2 ** exponent\n",
    "        exponent += 1\n",
    "\n",
    "max_exponent = 10\n",
    "print(f\"Powers of 2 up to 2^{max_exponent}:\")\n",
    "for power in powers_of_2(max_exponent):\n",
    "    print(power, end=' ')\n"
   ]
  },
  {
   "cell_type": "code",
   "execution_count": null,
   "id": "15753cac-67bd-4ada-aa33-0b3283519ecb",
   "metadata": {},
   "outputs": [],
   "source": []
  },
  {
   "cell_type": "markdown",
   "id": "f7452e6f-723f-45f5-8fc3-d90fd91a0ca8",
   "metadata": {},
   "source": [
    "QUES 8 : Use a lambda function in Python to sort a list of tuples based on the second element of each tuple."
   ]
  },
  {
   "cell_type": "code",
   "execution_count": 22,
   "id": "9e9fe04d-f27d-4bf3-93d6-548094b18f5a",
   "metadata": {},
   "outputs": [
    {
     "name": "stdout",
     "output_type": "stream",
     "text": [
      "[(7, 1), (1, 5), (8, 6), (3, 7), (6, 9)]\n"
     ]
    }
   ],
   "source": [
    "# List of tuples to be sorted\n",
    "tuples_list = [(1, 5), (7, 1), (6, 9), (8, 6),(3,7)]\n",
    "\n",
    "sorted_list = sorted(tuples_list, key=lambda x: x[1])\n",
    "\n",
    "# Print the sorted list\n",
    "print(sorted_list)\n"
   ]
  },
  {
   "cell_type": "code",
   "execution_count": null,
   "id": "b2235b2a-7581-4a37-8425-e4e9157cdb76",
   "metadata": {},
   "outputs": [],
   "source": []
  },
  {
   "cell_type": "markdown",
   "id": "9584744f-bd9a-4b2e-ab79-034e823571b4",
   "metadata": {},
   "source": [
    "QUES 9 : Write a Python program that uses `map()` to convert a list of temperatures from Celsius to Fahrenheit.\n"
   ]
  },
  {
   "cell_type": "code",
   "execution_count": 5,
   "id": "a1fe0d3f-33c8-4f64-b009-f1d749905a2f",
   "metadata": {},
   "outputs": [
    {
     "name": "stdout",
     "output_type": "stream",
     "text": [
      "[32.0, 59.0, 99.5, 230.0]\n"
     ]
    }
   ],
   "source": [
    "# Define the conversion function\n",
    "\n",
    "def celsius_to_fahrenheit(celsius):\n",
    "    return (celsius * 9/5) + 32\n",
    "\n",
    "celsius_temperatures = [0, 15, 37.5, 110]\n",
    "\n",
    "fahrenheit_temperatures = map(celsius_to_fahrenheit, celsius_temperatures)\n",
    "\n",
    "fahrenheit_list = list(fahrenheit_temperatures)\n",
    "print(fahrenheit_list)\n"
   ]
  },
  {
   "cell_type": "code",
   "execution_count": null,
   "id": "70f34cd8-4248-4707-92a8-915ac7e0787d",
   "metadata": {},
   "outputs": [],
   "source": []
  },
  {
   "cell_type": "markdown",
   "id": "c36b3ba4-73df-446b-b954-60a18033a7f8",
   "metadata": {},
   "source": [
    "QUES 10 : Create a Python program that uses `filter()` to remove all the vowels from a given string.\n",
    "\n"
   ]
  },
  {
   "cell_type": "code",
   "execution_count": 7,
   "id": "b68daabb-7d37-46bc-9412-d526349c24fd",
   "metadata": {},
   "outputs": [
    {
     "name": "stdout",
     "output_type": "stream",
     "text": [
      "WLCM T HM\n"
     ]
    }
   ],
   "source": [
    "def remove_vowels(s):\n",
    "    \n",
    "    vowels = \"aeiouAEIOU\"\n",
    "    \n",
    "    def is_not_vowel(char):\n",
    "        return char not in vowels\n",
    "      \n",
    "    filtered_chars = filter(is_not_vowel, s)\n",
    "    \n",
    "    result = ''.join(filtered_chars)\n",
    "    \n",
    "    return result\n",
    "\n",
    "input_string = \"WELCOME TO HOME\"\n",
    "output_string = remove_vowels(input_string)\n",
    "print(output_string)  \n"
   ]
  },
  {
   "cell_type": "code",
   "execution_count": null,
   "id": "a986d458-9000-4138-a19f-d0fe39ea4a4c",
   "metadata": {},
   "outputs": [],
   "source": []
  },
  {
   "cell_type": "markdown",
   "id": "ade3eebd-1cfa-4deb-b3f5-78a781e21090",
   "metadata": {},
   "source": [
    "QUES 11 : Imagine an accounting routine used in a book shop. It works on a list with sublists, which look like this:\n"
   ]
  },
  {
   "cell_type": "code",
   "execution_count": 16,
   "id": "213b33ef-c3c2-44cf-b447-eec1d8e38340",
   "metadata": {},
   "outputs": [
    {
     "name": "stdout",
     "output_type": "stream",
     "text": [
      "[(34587, 163.8), (98762, 284.0), (77226, 108.85), (88112, 84.97)]\n"
     ]
    }
   ],
   "source": [
    "# List of orders\n",
    "orders = [\n",
    "    (34587, \"Learning Python, Mark Lutz\", 4, 40.95),\n",
    "    (98762, \"Programming Python, Mark Lutz\", 5, 56.80),\n",
    "    (77226, \"Head First Python, Paul Barry\", 3, 32.95),\n",
    "    (88112, \"Einführung in Python3, Bernd Klein\", 3, 24.99)\n",
    "]\n",
    "\n",
    "# Lambda function to calculate the total price per order and add 10 if it's less than 100\n",
    "calculate_total = lambda order: (order[0], round(order[2] * order[3] + (10 if order[2] * order[3] < 100 else 0), 2))\n",
    "\n",
    "# Use map to apply the lambda function to each order\n",
    "result = list(map(calculate_total, orders))\n",
    "\n",
    "# Print the result\n",
    "print(result)\n"
   ]
  },
  {
   "cell_type": "code",
   "execution_count": null,
   "id": "295a8a15-5147-4443-95e8-a1c7c4928e86",
   "metadata": {},
   "outputs": [],
   "source": []
  }
 ],
 "metadata": {
  "kernelspec": {
   "display_name": "Python 3 (ipykernel)",
   "language": "python",
   "name": "python3"
  },
  "language_info": {
   "codemirror_mode": {
    "name": "ipython",
    "version": 3
   },
   "file_extension": ".py",
   "mimetype": "text/x-python",
   "name": "python",
   "nbconvert_exporter": "python",
   "pygments_lexer": "ipython3",
   "version": "3.10.8"
  }
 },
 "nbformat": 4,
 "nbformat_minor": 5
}
